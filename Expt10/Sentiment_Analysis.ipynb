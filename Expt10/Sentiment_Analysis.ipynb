{
 "cells": [
  {
   "cell_type": "code",
   "execution_count": 4,
   "metadata": {},
   "outputs": [],
   "source": [
    "import tensorflow as tf\n",
    "from tensorflow.keras.datasets import imdb\n",
    "from tensorflow.keras.preprocessing.sequence import pad_sequences\n",
    "from tensorflow.keras.utils import to_categorical\n",
    "\n",
    "# Load dataset (IMDB reviews dataset)\n",
    "max_words = 10000  # Top 10,000 words in the vocabulary\n",
    "maxlen = 100       # Maximum length of each review\n",
    "batch_size = 64\n",
    "\n",
    "# Load and prepare the dataset\n",
    "(train_data, train_labels), (test_data, test_labels) = imdb.load_data(num_words=max_words)\n",
    "\n",
    "# Pad the sequences to ensure equal length input\n",
    "train_data = pad_sequences(train_data, maxlen=maxlen)\n",
    "test_data = pad_sequences(test_data, maxlen=maxlen)\n",
    "\n",
    "# Convert labels to categorical (binary classification: positive/negative)\n",
    "train_labels = to_categorical(train_labels)\n",
    "test_labels = to_categorical(test_labels)\n"
   ]
  },
  {
   "cell_type": "code",
   "execution_count": 2,
   "metadata": {},
   "outputs": [],
   "source": [
    "from tensorflow.keras import layers, models\n",
    "\n",
    "# Build the CNN model for text classification\n",
    "model_cnn = models.Sequential()\n",
    "model_cnn.add(layers.Embedding(max_words, 128, input_length=maxlen))\n",
    "model_cnn.add(layers.Conv1D(128, 5, activation='relu'))  # 1D Convolutional layer\n",
    "model_cnn.add(layers.MaxPooling1D(pool_size=4))  # Max-pooling layer\n",
    "model_cnn.add(layers.Conv1D(128, 5, activation='relu'))\n",
    "model_cnn.add(layers.GlobalMaxPooling1D())  # Global max pooling\n",
    "model_cnn.add(layers.Dense(128, activation='relu'))\n",
    "model_cnn.add(layers.Dense(2, activation='softmax'))  # Binary classification\n"
   ]
  },
  {
   "cell_type": "code",
   "execution_count": 3,
   "metadata": {},
   "outputs": [
    {
     "name": "stdout",
     "output_type": "stream",
     "text": [
      "Epoch 1/5\n",
      "391/391 [==============================] - 37s 91ms/step - loss: 0.4586 - accuracy: 0.7587 - val_loss: 0.3764 - val_accuracy: 0.8324\n",
      "Epoch 2/5\n",
      "391/391 [==============================] - 35s 90ms/step - loss: 0.2402 - accuracy: 0.9046 - val_loss: 0.3570 - val_accuracy: 0.8486\n",
      "Epoch 3/5\n",
      "391/391 [==============================] - 37s 95ms/step - loss: 0.1100 - accuracy: 0.9615 - val_loss: 0.4348 - val_accuracy: 0.8412\n",
      "Epoch 4/5\n",
      "391/391 [==============================] - 37s 94ms/step - loss: 0.0433 - accuracy: 0.9858 - val_loss: 0.6077 - val_accuracy: 0.8321\n",
      "Epoch 5/5\n",
      "391/391 [==============================] - 41s 105ms/step - loss: 0.0237 - accuracy: 0.9926 - val_loss: 0.7263 - val_accuracy: 0.8336\n"
     ]
    }
   ],
   "source": [
    "\n",
    "# Compile the model\n",
    "model_cnn.compile(optimizer='adam', loss='categorical_crossentropy', metrics=['accuracy'])\n",
    "\n",
    "# Train the CNN model\n",
    "cnn_history = model_cnn.fit(train_data, train_labels, epochs=5, batch_size=batch_size, validation_data=(test_data, test_labels))\n"
   ]
  },
  {
   "cell_type": "code",
   "execution_count": 4,
   "metadata": {},
   "outputs": [
    {
     "name": "stdout",
     "output_type": "stream",
     "text": [
      "782/782 [==============================] - 9s 11ms/step - loss: 0.7263 - accuracy: 0.8336\n",
      "Test Accuracy (CNN): 83.36%\n"
     ]
    }
   ],
   "source": [
    "# Evaluate the model on the test set\n",
    "test_loss_cnn, test_accuracy_cnn = model_cnn.evaluate(test_data, test_labels)\n",
    "print(f\"Test Accuracy (CNN): {test_accuracy_cnn * 100:.2f}%\")\n"
   ]
  },
  {
   "cell_type": "code",
   "execution_count": 26,
   "metadata": {},
   "outputs": [
    {
     "name": "stdout",
     "output_type": "stream",
     "text": [
      "(25000, 100)\n"
     ]
    }
   ],
   "source": [
    "print(train_data.shape)"
   ]
  },
  {
   "cell_type": "code",
   "execution_count": 27,
   "metadata": {},
   "outputs": [],
   "source": [
    "from tensorflow.keras import layers, models, optimizers\n",
    "from tensorflow.keras.layers import Dropout, BatchNormalization\n",
    "\n",
    "# Build the RNN model for text classification with improvements\n",
    "model_rnn = models.Sequential()\n",
    "model_rnn.add(layers.Embedding(input_dim=max_words, output_dim=256, input_length=100))  # Increased embedding dimension\n",
    "model_rnn.add(layers.LSTM(256, return_sequences=True, activation='tanh'))  # Increased LSTM units, tanh activation\n",
    "model_rnn.add(Dropout(0.3))  # Add Dropout to prevent overfitting\n",
    "model_rnn.add(BatchNormalization())  # Batch normalization\n",
    "model_rnn.add(layers.LSTM(128))  # Another LSTM layer\n",
    "model_rnn.add(Dropout(0.3))  # Add another Dropout\n",
    "model_rnn.add(BatchNormalization())  # Batch normalization\n",
    "\n",
    "# Dense layers\n",
    "model_rnn.add(layers.Dense(128, activation='relu'))\n",
    "model_rnn.add(Dropout(0.4))  # Dropout layer after dense\n",
    "model_rnn.add(layers.Dense(2, activation='softmax'))  # Binary classification"
   ]
  },
  {
   "cell_type": "code",
   "execution_count": 28,
   "metadata": {},
   "outputs": [],
   "source": [
    "# Compile the model\n",
    "model_rnn.compile(optimizer='adam', loss='categorical_crossentropy', metrics=['accuracy'])\n"
   ]
  },
  {
   "cell_type": "code",
   "execution_count": 30,
   "metadata": {},
   "outputs": [
    {
     "name": "stdout",
     "output_type": "stream",
     "text": [
      "Epoch 1/5\n",
      "391/391 [==============================] - 448s 1s/step - loss: 0.3049 - accuracy: 0.8763 - val_loss: 0.4491 - val_accuracy: 0.8411\n",
      "Epoch 2/5\n",
      "391/391 [==============================] - 453s 1s/step - loss: 0.2365 - accuracy: 0.9078 - val_loss: 0.4448 - val_accuracy: 0.8166\n",
      "Epoch 3/5\n",
      "391/391 [==============================] - 458s 1s/step - loss: 0.1737 - accuracy: 0.9332 - val_loss: 0.4414 - val_accuracy: 0.8284\n",
      "Epoch 4/5\n",
      "391/391 [==============================] - 484s 1s/step - loss: 0.1373 - accuracy: 0.9487 - val_loss: 0.5247 - val_accuracy: 0.8280\n",
      "Epoch 5/5\n",
      "391/391 [==============================] - 560s 1s/step - loss: 0.1031 - accuracy: 0.9620 - val_loss: 0.6205 - val_accuracy: 0.8286\n",
      "782/782 [==============================] - 213s 272ms/step - loss: 0.6205 - accuracy: 0.8286\n",
      "Test Accuracy (RNN): 82.86%\n"
     ]
    }
   ],
   "source": [
    "# Train the RNN model\n",
    "rnn_history = model_rnn.fit(train_data, train_labels, epochs=5, batch_size=batch_size, validation_data=(test_data, test_labels))\n",
    "\n",
    "# Evaluate the model on the test set\n",
    "test_loss_rnn, test_accuracy_rnn = model_rnn.evaluate(test_data, test_labels)\n",
    "print(f\"Test Accuracy (RNN): {test_accuracy_rnn * 100:.2f}%\")"
   ]
  },
  {
   "cell_type": "code",
   "execution_count": 5,
   "metadata": {},
   "outputs": [],
   "source": [
    "# from sklearn.metrics import accuracy_score, precision_score, recall_score, f1_score, confusion_matrix, roc_auc_score\n",
    "\n",
    "# # Assuming you have trained both CNN and RNN models and have predictions and true labels\n",
    "# # For example, y_true is the true labels, cnn_preds and rnn_preds are predictions from both models.\n",
    "\n",
    "# def print_performance_metrics(y_true, y_pred, model_name):\n",
    "#     # Accuracy\n",
    "#     accuracy = accuracy_score(y_true, y_pred)\n",
    "#     # Precision\n",
    "#     precision = precision_score(y_true, y_pred, average='binary')\n",
    "#     # Recall\n",
    "#     recall = recall_score(y_true, y_pred, average='binary')\n",
    "#     # F1 Score\n",
    "#     f1 = f1_score(y_true, y_pred, average='binary')\n",
    "#     # Confusion Matrix\n",
    "#     conf_matrix = confusion_matrix(y_true, y_pred)\n",
    "#     # ROC-AUC Score (for binary classification)\n",
    "#     roc_auc = roc_auc_score(y_true, y_pred)\n",
    "\n",
    "#     # Printing the metrics\n",
    "#     print(f\"{model_name} Performance Metrics:\")\n",
    "#     print(f\"Accuracy: {accuracy:.4f}\")\n",
    "#     print(f\"Precision: {precision:.4f}\")\n",
    "#     print(f\"Recall: {recall:.4f}\")\n",
    "#     print(f\"F1 Score: {f1:.4f}\")\n",
    "#     print(f\"Confusion Matrix:\\n{conf_matrix}\")\n",
    "#     print(f\"ROC-AUC Score: {roc_auc:.4f}\")\n",
    "#     print(\"----------------------------------------------------\")\n",
    "\n",
    "\n",
    "# cnn_preds = model_cnn.predict(test_data)  # Get predictions from CNN model\n",
    "# rnn_preds = model_rnn.predict(test_data)  # Get predictions from RNN model\n",
    "\n",
    "# # Assuming y_test contains the true labels\n",
    "# print_performance_metrics(test_labels, test_data, \"CNN Model\")\n",
    "# print_performance_metrics(test_labels, test_data, \"RNN Model\")\n"
   ]
  },
  {
   "cell_type": "code",
   "execution_count": null,
   "metadata": {},
   "outputs": [],
   "source": []
  },
  {
   "cell_type": "code",
   "execution_count": null,
   "metadata": {},
   "outputs": [],
   "source": []
  },
  {
   "cell_type": "code",
   "execution_count": null,
   "metadata": {},
   "outputs": [],
   "source": []
  }
 ],
 "metadata": {
  "kernelspec": {
   "display_name": "Python 3",
   "language": "python",
   "name": "python3"
  },
  "language_info": {
   "codemirror_mode": {
    "name": "ipython",
    "version": 3
   },
   "file_extension": ".py",
   "mimetype": "text/x-python",
   "name": "python",
   "nbconvert_exporter": "python",
   "pygments_lexer": "ipython3",
   "version": "3.8.10"
  }
 },
 "nbformat": 4,
 "nbformat_minor": 2
}
